{
 "cells": [
  {
   "cell_type": "code",
   "execution_count": 1,
   "metadata": {
    "collapsed": true
   },
   "outputs": [],
   "source": [
    "import os\n",
    "os.environ['DB_DATA_SCIENCE_NAME']='data_science'\n",
    "os.environ['DB_DATA_SCIENCE_USER']='aida'\n",
    "os.environ['DB_DATA_SCIENCE_HOST']='172.25.28.117'\n",
    "os.environ['DB_DATA_SCIENCE_PASS']='eCWKTgBWdoJdpY6tZoLqpatc'\n",
    "os.environ['ESHOP_ENDPOINT'] = \"http://shop-ws-itg.aida.de/eshop/cxfservices/webserviceSearch\""
   ]
  },
  {
   "cell_type": "code",
   "execution_count": 2,
   "metadata": {
    "collapsed": true
   },
   "outputs": [],
   "source": [
    "import psycopg2\n",
    "class Connections(object):\n",
    "    def __init__(self):\n",
    "        print('Connections:before decrypt')\n",
    "        # decrypt()\n",
    "        print('Connections:after decrypt')\n",
    "        print(os.environ['DB_DATA_SCIENCE_NAME'])\n",
    "        print(os.environ['DB_DATA_SCIENCE_USER'])\n",
    "        print(os.environ['DB_DATA_SCIENCE_HOST'])\n",
    "        # import socket\n",
    "        # sock = socket.socket(socket.AF_INET, socket.SOCK_STREAM)\n",
    "        # result = sock.connect_ex((os.environ['DB_DATA_SCIENCE_HOST'],5432))\n",
    "        # if result == 0:\n",
    "        #    print(\"Port is open\")\n",
    "        # else:\n",
    "        #    print(\"Port is not open\")\n",
    "        self.aws_ds_postgre_connect = psycopg2.connect(\n",
    "            database=os.environ['DB_DATA_SCIENCE_NAME'],\n",
    "            user=os.environ['DB_DATA_SCIENCE_USER'],\n",
    "            password=os.environ['DB_DATA_SCIENCE_PASS'],\n",
    "            host=os.environ['DB_DATA_SCIENCE_HOST'],\n",
    "            port=5432)"
   ]
  },
  {
   "cell_type": "code",
   "execution_count": 4,
   "metadata": {
    "collapsed": false
   },
   "outputs": [
    {
     "name": "stdout",
     "output_type": "stream",
     "text": [
      "Connections:before decrypt\n",
      "Connections:after decrypt\n",
      "data_science\n",
      "aida\n",
      "172.25.28.117\n"
     ]
    }
   ],
   "source": [
    "def startConnection():\n",
    "    connection = Connections()\n",
    "    return connection\n",
    "\n",
    "connection=startConnection()"
   ]
  },
  {
   "cell_type": "code",
   "execution_count": 5,
   "metadata": {
    "collapsed": true
   },
   "outputs": [],
   "source": [
    "import pandas as pd\n",
    "query=\"select * from excursion_recommendation.cohort_recommender where count>100\"\n",
    "df = pd.read_sql(query, con=connection.aws_ds_postgre_connect)"
   ]
  },
  {
   "cell_type": "code",
   "execution_count": 6,
   "metadata": {
    "collapsed": false
   },
   "outputs": [
    {
     "data": {
      "text/plain": [
       "(12695, 8)"
      ]
     },
     "execution_count": 6,
     "metadata": {},
     "output_type": "execute_result"
    }
   ],
   "source": [
    "df.shape"
   ]
  },
  {
   "cell_type": "code",
   "execution_count": 7,
   "metadata": {
    "collapsed": false
   },
   "outputs": [],
   "source": [
    "a=df.set_index(['city','gender'])\n"
   ]
  },
  {
   "cell_type": "code",
   "execution_count": 9,
   "metadata": {
    "collapsed": false
   },
   "outputs": [
    {
     "data": {
      "text/plain": [
       "(12695, 6)"
      ]
     },
     "execution_count": 9,
     "metadata": {},
     "output_type": "execute_result"
    }
   ],
   "source": [
    "a.shape"
   ]
  },
  {
   "cell_type": "code",
   "execution_count": 11,
   "metadata": {
    "collapsed": false
   },
   "outputs": [
    {
     "data": {
      "text/html": [
       "<div>\n",
       "<table border=\"1\" class=\"dataframe\">\n",
       "  <thead>\n",
       "    <tr style=\"text-align: right;\">\n",
       "      <th></th>\n",
       "      <th>index</th>\n",
       "      <th>city</th>\n",
       "      <th>gender</th>\n",
       "      <th>age</th>\n",
       "      <th>country</th>\n",
       "      <th>dal_shex_id</th>\n",
       "      <th>count</th>\n",
       "      <th>article_code</th>\n",
       "    </tr>\n",
       "  </thead>\n",
       "  <tbody>\n",
       "    <tr>\n",
       "      <th>0</th>\n",
       "      <td>442718</td>\n",
       "      <td>large</td>\n",
       "      <td>m</td>\n",
       "      <td>youth</td>\n",
       "      <td>germany</td>\n",
       "      <td>2969</td>\n",
       "      <td>172</td>\n",
       "      <td>CIV01</td>\n",
       "    </tr>\n",
       "    <tr>\n",
       "      <th>1</th>\n",
       "      <td>442721</td>\n",
       "      <td>large</td>\n",
       "      <td>m</td>\n",
       "      <td>youth</td>\n",
       "      <td>germany</td>\n",
       "      <td>2972</td>\n",
       "      <td>114</td>\n",
       "      <td>CIV03</td>\n",
       "    </tr>\n",
       "    <tr>\n",
       "      <th>2</th>\n",
       "      <td>442722</td>\n",
       "      <td>large</td>\n",
       "      <td>m</td>\n",
       "      <td>youth</td>\n",
       "      <td>germany</td>\n",
       "      <td>2973</td>\n",
       "      <td>118</td>\n",
       "      <td>CIV33</td>\n",
       "    </tr>\n",
       "    <tr>\n",
       "      <th>3</th>\n",
       "      <td>442911</td>\n",
       "      <td>large</td>\n",
       "      <td>m</td>\n",
       "      <td>youth</td>\n",
       "      <td>germany</td>\n",
       "      <td>3167</td>\n",
       "      <td>144</td>\n",
       "      <td>DOV04</td>\n",
       "    </tr>\n",
       "    <tr>\n",
       "      <th>4</th>\n",
       "      <td>443444</td>\n",
       "      <td>large</td>\n",
       "      <td>m</td>\n",
       "      <td>youth</td>\n",
       "      <td>germany</td>\n",
       "      <td>3732</td>\n",
       "      <td>137</td>\n",
       "      <td>LEH02</td>\n",
       "    </tr>\n",
       "  </tbody>\n",
       "</table>\n",
       "</div>"
      ],
      "text/plain": [
       "    index                  city gender         age     country  dal_shex_id  \\\n",
       "0  442718  large                 m      youth       germany            2969   \n",
       "1  442721  large                 m      youth       germany            2972   \n",
       "2  442722  large                 m      youth       germany            2973   \n",
       "3  442911  large                 m      youth       germany            3167   \n",
       "4  443444  large                 m      youth       germany            3732   \n",
       "\n",
       "   count article_code  \n",
       "0    172        CIV01  \n",
       "1    114        CIV03  \n",
       "2    118        CIV33  \n",
       "3    144        DOV04  \n",
       "4    137        LEH02  "
      ]
     },
     "execution_count": 11,
     "metadata": {},
     "output_type": "execute_result"
    }
   ],
   "source": [
    "df.head()"
   ]
  },
  {
   "cell_type": "code",
   "execution_count": null,
   "metadata": {
    "collapsed": true
   },
   "outputs": [],
   "source": []
  }
 ],
 "metadata": {
  "kernelspec": {
   "display_name": "Python 3",
   "language": "python",
   "name": "python3"
  },
  "language_info": {
   "codemirror_mode": {
    "name": "ipython",
    "version": 3
   },
   "file_extension": ".py",
   "mimetype": "text/x-python",
   "name": "python",
   "nbconvert_exporter": "python",
   "pygments_lexer": "ipython3",
   "version": "3.6.2"
  }
 },
 "nbformat": 4,
 "nbformat_minor": 2
}
