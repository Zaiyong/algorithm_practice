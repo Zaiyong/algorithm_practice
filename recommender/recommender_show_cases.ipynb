{
 "cells": [
  {
   "cell_type": "markdown",
   "metadata": {},
   "source": [
    "##### input data"
   ]
  },
  {
   "cell_type": "code",
   "execution_count": 9,
   "metadata": {},
   "outputs": [],
   "source": [
    "import numpy as np"
   ]
  },
  {
   "cell_type": "code",
   "execution_count": 10,
   "metadata": {},
   "outputs": [],
   "source": [
    "movie_categlog_score=np.genfromtxt('movie_catelog_score.csv',delimiter=',')"
   ]
  },
  {
   "cell_type": "code",
   "execution_count": 11,
   "metadata": {},
   "outputs": [],
   "source": [
    "user_score=np.genfromtxt('user_score.csv',delimiter=',')"
   ]
  },
  {
   "cell_type": "code",
   "execution_count": 12,
   "metadata": {},
   "outputs": [
    {
     "data": {
      "text/plain": [
       "array([[ 0.8,  0.1,  0. ,  0.2,  0. ],\n",
       "       [ 0. ,  0.9,  0.8,  0. ,  0.3],\n",
       "       [ 0.2,  0. ,  0. ,  0.8,  0. ],\n",
       "       [ 0. ,  0. ,  0.1,  0. ,  0.7]])"
      ]
     },
     "execution_count": 12,
     "metadata": {},
     "output_type": "execute_result"
    }
   ],
   "source": [
    "movie_categlog_score"
   ]
  },
  {
   "cell_type": "code",
   "execution_count": 14,
   "metadata": {},
   "outputs": [
    {
     "data": {
      "text/plain": [
       "array([[ 2.,  5.,  4.,  3.,  2.],\n",
       "       [ 1.,  4.,  3.,  3.,  5.],\n",
       "       [ 5.,  4.,  4.,  2.,  1.],\n",
       "       [ 4.,  5.,  5.,  3.,  3.]])"
      ]
     },
     "execution_count": 14,
     "metadata": {},
     "output_type": "execute_result"
    }
   ],
   "source": [
    "user_score"
   ]
  },
  {
   "cell_type": "markdown",
   "metadata": {},
   "source": [
    "#####  Score Prediction using Linear Regression"
   ]
  },
  {
   "cell_type": "code",
   "execution_count": 15,
   "metadata": {},
   "outputs": [],
   "source": [
    "from sklearn import linear_model"
   ]
  },
  {
   "cell_type": "code",
   "execution_count": 16,
   "metadata": {},
   "outputs": [],
   "source": [
    "regr = linear_model.LinearRegression()"
   ]
  },
  {
   "cell_type": "code",
   "execution_count": 17,
   "metadata": {},
   "outputs": [
    {
     "name": "stdout",
     "output_type": "stream",
     "text": [
      "[ 2.55555556]\n",
      "[ 3.25396825]\n",
      "[ 2.80952381]\n",
      "[ 4.11111111]\n"
     ]
    }
   ],
   "source": [
    "for i in range(0,4):\n",
    "    regr.fit(np.transpose(movie_categlog_score), user_score[i,:])\n",
    "    y_pred = regr.predict([[0,0.5,0,0.4]])\n",
    "    print(y_pred)"
   ]
  },
  {
   "cell_type": "markdown",
   "metadata": {},
   "source": [
    "#####  User Based Collaborative filtering"
   ]
  },
  {
   "cell_type": "code",
   "execution_count": 18,
   "metadata": {},
   "outputs": [],
   "source": [
    "from sklearn.metrics.pairwise import cosine_similarity"
   ]
  },
  {
   "cell_type": "code",
   "execution_count": 19,
   "metadata": {},
   "outputs": [
    {
     "data": {
      "text/plain": [
       "array([[ 1.        ,  0.89843414,  0.90050042,  0.97421603],\n",
       "       [ 0.89843414,  1.        ,  0.72140842,  0.88741197],\n",
       "       [ 0.90050042,  0.72140842,  1.        ,  0.95612264],\n",
       "       [ 0.97421603,  0.88741197,  0.95612264,  1.        ]])"
      ]
     },
     "execution_count": 19,
     "metadata": {},
     "output_type": "execute_result"
    }
   ],
   "source": [
    "cosine_similarity(user_score)"
   ]
  },
  {
   "cell_type": "markdown",
   "metadata": {},
   "source": [
    "##### Trend "
   ]
  },
  {
   "cell_type": "code",
   "execution_count": 20,
   "metadata": {},
   "outputs": [],
   "source": [
    "import matplotlib.pyplot as plt"
   ]
  },
  {
   "cell_type": "code",
   "execution_count": 21,
   "metadata": {},
   "outputs": [],
   "source": [
    "import pandas as pd"
   ]
  },
  {
   "cell_type": "code",
   "execution_count": 22,
   "metadata": {},
   "outputs": [],
   "source": [
    "trend_data=pd.read_csv('trend.csv')"
   ]
  },
  {
   "cell_type": "code",
   "execution_count": null,
   "metadata": {},
   "outputs": [],
   "source": [
    "plt.plot(pd.to_datetime(trend_data['date'],format='%Y-%m'),trend_data['Titanic'],label='Titanic')\n",
    "plt.plot(pd.to_datetime(trend_data['date'],format='%Y-%m'),trend_data['Iron Man'],label='Iron Man')\n",
    "plt.plot(pd.to_datetime(trend_data['date'],format='%Y-%m'),trend_data['Oceans 8'],label='Oceans 8')\n",
    "plt.legend()\n",
    "plt.xlabel('month')\n",
    "plt.ylabel('views')"
   ]
  },
  {
   "cell_type": "markdown",
   "metadata": {},
   "source": [
    "##### cold start problem\n",
    "not enough historical interactions\n",
    "##### exploit－explore tradeoff\n",
    "exploit: what customer expect\n",
    "explore: what customer maybe is interested in\n",
    "\n",
    "##### Bandit algorithms"
   ]
  },
  {
   "cell_type": "code",
   "execution_count": 160,
   "metadata": {},
   "outputs": [],
   "source": [
    "import math"
   ]
  },
  {
   "cell_type": "code",
   "execution_count": 167,
   "metadata": {},
   "outputs": [],
   "source": [
    "interestes={'Comedy':0.8,'Action':0.2}\n",
    "comedy_try=0\n",
    "action_try=0\n",
    "comedy_viewed=0\n",
    "action_viewed=0\n",
    "recommend_comedy_rate=[]\n",
    "for i in range(0,10000):\n",
    "    if i==1000:\n",
    "        interestes={'Comedy':0.2,'Action':0.8}#customer changes his/her tast\n",
    "    recommend_comedy_rate.append(comedy_try/(i+1))\n",
    "    rd_number=rd.random()\n",
    "    if i==0:\n",
    "        interest=interestes['Comedy']\n",
    "        comedy_try+=1\n",
    "        if rd_number <=interest:\n",
    "            comedy_viewed+=1\n",
    "    elif i==1:\n",
    "        interest=interestes['Action']\n",
    "        action_try+=1\n",
    "        if rd_number <=interest:\n",
    "            action_viewed+=1\n",
    "    else:\n",
    "        score_comedy=comedy_viewed/(comedy_try+1)+math.sqrt(2*math.log(i+1)/comedy_try)\n",
    "        score_action=action_viewed/(action_try+1)+math.sqrt(2*math.log(i+1)/action_try)\n",
    "        if score_comedy>=score_action:\n",
    "            interest=interestes['Comedy']\n",
    "            comedy_try+=1\n",
    "            if rd_number <=interest:\n",
    "                comedy_viewed+=1\n",
    "        else:\n",
    "            interest=interestes['Action']\n",
    "            action_try+=1\n",
    "            if rd_number <=interest:\n",
    "                action_viewed+=1"
   ]
  },
  {
   "cell_type": "code",
   "execution_count": null,
   "metadata": {},
   "outputs": [],
   "source": [
    "plt.plot(recommend_comedy_rate,'.')"
   ]
  },
  {
   "cell_type": "markdown",
   "metadata": {},
   "source": [
    "##### recommendation for articles\n",
    "TF-IDF algorithm  \n",
    "term frequency–inverse document frequency"
   ]
  },
  {
   "cell_type": "code",
   "execution_count": 24,
   "metadata": {},
   "outputs": [],
   "source": [
    "from sklearn.metrics.pairwise import linear_kernel\n",
    "from sklearn.feature_extraction.text import TfidfVectorizer"
   ]
  },
  {
   "cell_type": "code",
   "execution_count": 25,
   "metadata": {},
   "outputs": [],
   "source": [
    "german_stop_words=[line.strip() for line in open('/Users/401384/work_repo/analytics/reference_files/german_stop_words.txt').readlines()]"
   ]
  },
  {
   "cell_type": "code",
   "execution_count": 26,
   "metadata": {},
   "outputs": [],
   "source": [
    "vectorizer = TfidfVectorizer(analyzer='word',stop_words=german_stop_words,lowercase=True)"
   ]
  },
  {
   "cell_type": "code",
   "execution_count": 27,
   "metadata": {},
   "outputs": [],
   "source": [
    "article_list=[]\n",
    "article_files=['article1.txt','article2.txt','article3.txt','article4.txt']\n",
    "for article_file in article_files:\n",
    "    article_list.append(\n",
    "            open(article_file).read().replace('\\r','').replace('\\n','').replace('\\t','')\n",
    "    )\n",
    "    "
   ]
  },
  {
   "cell_type": "code",
   "execution_count": 28,
   "metadata": {},
   "outputs": [],
   "source": [
    "tfidf=vectorizer.fit_transform(article_list)"
   ]
  },
  {
   "cell_type": "code",
   "execution_count": 29,
   "metadata": {},
   "outputs": [],
   "source": [
    "cosine_similarities = linear_kernel(tfidf, tfidf).flatten()"
   ]
  },
  {
   "cell_type": "code",
   "execution_count": 30,
   "metadata": {},
   "outputs": [
    {
     "data": {
      "text/plain": [
       "array([ 1.        ,  0.06840255,  0.11262395,  0.1957427 ,  0.06840255,\n",
       "        1.        ,  0.27992742,  0.07617252,  0.11262395,  0.27992742,\n",
       "        1.        ,  0.12541711,  0.1957427 ,  0.07617252,  0.12541711,  1.        ])"
      ]
     },
     "execution_count": 30,
     "metadata": {},
     "output_type": "execute_result"
    }
   ],
   "source": [
    "cosine_similarities"
   ]
  },
  {
   "cell_type": "code",
   "execution_count": null,
   "metadata": {},
   "outputs": [],
   "source": []
  }
 ],
 "metadata": {
  "kernelspec": {
   "display_name": "Python 3",
   "language": "python",
   "name": "python3"
  },
  "language_info": {
   "codemirror_mode": {
    "name": "ipython",
    "version": 3
   },
   "file_extension": ".py",
   "mimetype": "text/x-python",
   "name": "python",
   "nbconvert_exporter": "python",
   "pygments_lexer": "ipython3",
   "version": "3.6.2"
  }
 },
 "nbformat": 4,
 "nbformat_minor": 2
}
