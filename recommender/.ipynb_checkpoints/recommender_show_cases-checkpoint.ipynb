{
 "cells": [
  {
   "cell_type": "markdown",
   "metadata": {},
   "source": [
    "##### input data"
   ]
  },
  {
   "cell_type": "code",
   "execution_count": 9,
   "metadata": {},
   "outputs": [],
   "source": [
    "import numpy as np"
   ]
  },
  {
   "cell_type": "code",
   "execution_count": 10,
   "metadata": {},
   "outputs": [],
   "source": [
    "movie_categlog_score=np.genfromtxt('movie_catelog_score.csv',delimiter=',')"
   ]
  },
  {
   "cell_type": "code",
   "execution_count": 11,
   "metadata": {},
   "outputs": [],
   "source": [
    "user_score=np.genfromtxt('user_score.csv',delimiter=',')"
   ]
  },
  {
   "cell_type": "code",
   "execution_count": 12,
   "metadata": {},
   "outputs": [
    {
     "data": {
      "text/plain": [
       "array([[ 0.8,  0.1,  0. ,  0.2,  0. ],\n",
       "       [ 0. ,  0.9,  0.8,  0. ,  0.3],\n",
       "       [ 0.2,  0. ,  0. ,  0.8,  0. ],\n",
       "       [ 0. ,  0. ,  0.1,  0. ,  0.7]])"
      ]
     },
     "execution_count": 12,
     "metadata": {},
     "output_type": "execute_result"
    }
   ],
   "source": [
    "movie_categlog_score"
   ]
  },
  {
   "cell_type": "code",
   "execution_count": 14,
   "metadata": {},
   "outputs": [
    {
     "data": {
      "text/plain": [
       "array([[ 2.,  5.,  4.,  3.,  2.],\n",
       "       [ 1.,  4.,  3.,  3.,  5.],\n",
       "       [ 5.,  4.,  4.,  2.,  1.],\n",
       "       [ 4.,  5.,  5.,  3.,  3.]])"
      ]
     },
     "execution_count": 14,
     "metadata": {},
     "output_type": "execute_result"
    }
   ],
